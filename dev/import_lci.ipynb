{
 "cells": [
  {
   "cell_type": "code",
   "id": "initial_id",
   "metadata": {
    "collapsed": true,
    "ExecuteTime": {
     "end_time": "2025-02-18T09:15:51.759558Z",
     "start_time": "2025-02-18T09:15:50.446078Z"
    }
   },
   "source": "import bw2data, bw2io",
   "outputs": [],
   "execution_count": 1
  },
  {
   "metadata": {
    "ExecuteTime": {
     "end_time": "2025-02-18T09:16:00.404268Z",
     "start_time": "2025-02-18T09:16:00.240694Z"
    }
   },
   "cell_type": "code",
   "source": "bw2data.projects.set_current(\"ecoinvent-3.10-cutoff\")",
   "id": "f3cf47befb89a07b",
   "outputs": [],
   "execution_count": 2
  },
  {
   "metadata": {
    "ExecuteTime": {
     "end_time": "2025-02-18T09:17:55.296277Z",
     "start_time": "2025-02-18T09:17:50.417868Z"
    }
   },
   "cell_type": "code",
   "source": [
    "fp = \"lci_328849.xlsx_car_20250218_2025_bw2.xlsx\"\n",
    "i = bw2io.ExcelImporter(fp)\n",
    "i.apply_strategies()"
   ],
   "id": "ba9db28bcd0994a6",
   "outputs": [
    {
     "name": "stdout",
     "output_type": "stream",
     "text": [
      "Extracted 1 worksheets in 0.32 seconds\n",
      "Applying strategy: csv_restore_tuples\n",
      "Applying strategy: csv_restore_booleans\n",
      "Applying strategy: csv_numerize\n",
      "Applying strategy: csv_drop_unknown\n",
      "Applying strategy: csv_add_missing_exchanges_section\n",
      "Applying strategy: normalize_units\n",
      "Applying strategy: normalize_biosphere_categories\n",
      "Applying strategy: normalize_biosphere_names\n",
      "Applying strategy: strip_biosphere_exc_locations\n",
      "Applying strategy: set_code_by_activity_hash\n",
      "Applying strategy: link_iterable_by_fields\n",
      "Applying strategy: assign_only_product_as_production\n",
      "Applying strategy: link_technosphere_by_activity_hash\n",
      "Applying strategy: drop_falsey_uncertainty_fields_but_keep_zeros\n",
      "Applying strategy: convert_uncertainty_types_to_integers\n",
      "Applying strategy: convert_activity_parameters_to_list\n",
      "Applied 16 strategies in 4.52 seconds\n"
     ]
    }
   ],
   "execution_count": 7
  },
  {
   "metadata": {
    "ExecuteTime": {
     "end_time": "2025-02-18T09:18:11.994559Z",
     "start_time": "2025-02-18T09:18:11.009959Z"
    }
   },
   "cell_type": "code",
   "source": [
    "i.match_database(fields=[\"name\", \"reference product\", \"location\"])\n",
    "i.match_database(\"ecoinvent-3.10.1-cutoff\", fields=[\"name\", \"reference product\", \"location\"])\n",
    "i.match_database(\"biosphere3\", fields=[\"name\", \"categories\"])"
   ],
   "id": "52c2511017c0fbfc",
   "outputs": [
    {
     "name": "stdout",
     "output_type": "stream",
     "text": [
      "Applying strategy: link_iterable_by_fields\n",
      "Applying strategy: link_iterable_by_fields\n",
      "Applying strategy: link_iterable_by_fields\n"
     ]
    }
   ],
   "execution_count": 9
  },
  {
   "metadata": {
    "ExecuteTime": {
     "end_time": "2025-02-18T09:18:18.811948Z",
     "start_time": "2025-02-18T09:18:18.806809Z"
    }
   },
   "cell_type": "code",
   "source": "i.statistics()",
   "id": "70864477953cb0d1",
   "outputs": [
    {
     "name": "stdout",
     "output_type": "stream",
     "text": [
      "452 datasets\n",
      "4813 exchanges\n",
      "24 unlinked exchanges\n",
      "  Type biosphere: 24 unique unlinked exchanges\n"
     ]
    },
    {
     "data": {
      "text/plain": [
       "(452, 4813, 24)"
      ]
     },
     "execution_count": 11,
     "metadata": {},
     "output_type": "execute_result"
    }
   ],
   "execution_count": 11
  },
  {
   "metadata": {
    "ExecuteTime": {
     "end_time": "2025-02-18T09:18:40.578393Z",
     "start_time": "2025-02-18T09:18:40.574298Z"
    }
   },
   "cell_type": "code",
   "source": "i.drop_unlinked(i_am_reckless=True)",
   "id": "efc06ebfd414f982",
   "outputs": [
    {
     "name": "stdout",
     "output_type": "stream",
     "text": [
      "Applying strategy: drop_unlinked\n",
      "Applied 1 strategies in 0.00 seconds\n"
     ]
    }
   ],
   "execution_count": 13
  },
  {
   "metadata": {
    "ExecuteTime": {
     "end_time": "2025-02-18T09:20:35.363475Z",
     "start_time": "2025-02-18T09:18:43.863801Z"
    }
   },
   "cell_type": "code",
   "source": "i.write_database()",
   "id": "26f080d3453a3969",
   "outputs": [
    {
     "name": "stdout",
     "output_type": "stream",
     "text": [
      "Warning: No valid output stream.\n",
      "Title: Writing activities to SQLite3 database:\n",
      "  Started: 02/18/2025 10:19:18\n",
      "  Finished: 02/18/2025 10:19:18\n",
      "  Total time elapsed: 00:00:00\n",
      "  CPU %: 93.50\n",
      "  Memory %: 1.37\n",
      "Created database: lci_328849.xlsx_car_20250218\n"
     ]
    }
   ],
   "execution_count": 14
  },
  {
   "metadata": {},
   "cell_type": "code",
   "outputs": [],
   "execution_count": null,
   "source": "",
   "id": "dea3c9691eb9c656"
  }
 ],
 "metadata": {
  "kernelspec": {
   "display_name": "Python 3",
   "language": "python",
   "name": "python3"
  },
  "language_info": {
   "codemirror_mode": {
    "name": "ipython",
    "version": 2
   },
   "file_extension": ".py",
   "mimetype": "text/x-python",
   "name": "python",
   "nbconvert_exporter": "python",
   "pygments_lexer": "ipython2",
   "version": "2.7.6"
  }
 },
 "nbformat": 4,
 "nbformat_minor": 5
}
